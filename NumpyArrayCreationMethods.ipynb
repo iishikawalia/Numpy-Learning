{
  "nbformat": 4,
  "nbformat_minor": 0,
  "metadata": {
    "colab": {
      "provenance": [],
      "authorship_tag": "ABX9TyO3lhspC//2QnRTGFPiwKKs",
      "include_colab_link": true
    },
    "kernelspec": {
      "name": "python3",
      "display_name": "Python 3"
    },
    "language_info": {
      "name": "python"
    }
  },
  "cells": [
    {
      "cell_type": "markdown",
      "metadata": {
        "id": "view-in-github",
        "colab_type": "text"
      },
      "source": [
        "<a href=\"https://colab.research.google.com/github/iishikawalia/Numpy-Learning/blob/main/NumpyArrayCreationMethods.ipynb\" target=\"_parent\"><img src=\"https://colab.research.google.com/assets/colab-badge.svg\" alt=\"Open In Colab\"/></a>"
      ]
    },
    {
      "cell_type": "code",
      "execution_count": 5,
      "metadata": {
        "colab": {
          "base_uri": "https://localhost:8080/"
        },
        "id": "uuIKHV77RcVy",
        "outputId": "cc071587-cd33-4a6f-9428-64ba1e392f45"
      },
      "outputs": [
        {
          "output_type": "stream",
          "name": "stdout",
          "text": [
            "[  10   20 3040   50   66  665    4    4]\n",
            "[[1 2 3]\n",
            " [4 5 6]\n",
            " [7 8 9]]\n",
            "[[ 2  4  6]\n",
            " [ 8 10 20]]\n"
          ]
        }
      ],
      "source": [
        "import numpy as np\n",
        "#1-D array\n",
        "arr1d=np.array([10,20,3040,50,66,665,4,4])\n",
        "print(arr1d)\n",
        "#matrix= 2-D array\n",
        "arr2d=np.array([[1,2,3],\n",
        "               [4,5,6],\n",
        "               [7,8,9]])\n",
        "print(arr2d)\n",
        "matrix=np.array( [[2,4,6],\n",
        "                  [8,10,20]])\n",
        "print(matrix)\n",
        "#multiple layers of storage data\n"
      ]
    },
    {
      "cell_type": "code",
      "source": [
        "import numpy as np\n",
        "ones_array=np.ones((2,3))\n",
        "print(ones_array)"
      ],
      "metadata": {
        "colab": {
          "base_uri": "https://localhost:8080/"
        },
        "id": "e-DrbJRlYBSl",
        "outputId": "073934ac-ff1e-42d7-9a15-4842e30a3fc7"
      },
      "execution_count": 6,
      "outputs": [
        {
          "output_type": "stream",
          "name": "stdout",
          "text": [
            "[[1. 1. 1.]\n",
            " [1. 1. 1.]]\n"
          ]
        }
      ]
    },
    {
      "cell_type": "code",
      "source": [
        "import numpy as np\n",
        "filled_Array=np.full((2,5),7)\n",
        "print(filled_Array)"
      ],
      "metadata": {
        "colab": {
          "base_uri": "https://localhost:8080/"
        },
        "id": "bAYyEP5aY1-O",
        "outputId": "75f8e9be-9de4-4cb7-fa24-3dbc443f993b"
      },
      "execution_count": 24,
      "outputs": [
        {
          "output_type": "stream",
          "name": "stdout",
          "text": [
            "[[7 7 7 7 7]\n",
            " [7 7 7 7 7]]\n"
          ]
        }
      ]
    },
    {
      "cell_type": "code",
      "source": [
        "#creating sequences of numbers in numpy - arange function\n",
        "import numpy as np\n",
        "#arange(start, stop, step)\n",
        "#returns numpy array\n",
        "arr=np.arange(1,10,2)\n",
        "print(arr)"
      ],
      "metadata": {
        "colab": {
          "base_uri": "https://localhost:8080/"
        },
        "id": "Pxl_-3cSZ61z",
        "outputId": "a25896c3-1986-4212-a661-a24c4f8f1e48"
      },
      "execution_count": 28,
      "outputs": [
        {
          "output_type": "stream",
          "name": "stdout",
          "text": [
            "[1 3 5 7 9]\n"
          ]
        }
      ]
    },
    {
      "cell_type": "code",
      "source": [
        "#creating identity matrices\n",
        "#it is a square matrix with 1 no diagonal elements and 0 else where\n",
        "import numpy as np\n",
        "identity_matrix=np.eye(5)\n",
        "print(identity_matrix)"
      ],
      "metadata": {
        "colab": {
          "base_uri": "https://localhost:8080/"
        },
        "id": "5xxJkHuCbMeU",
        "outputId": "437312e0-1b2d-4815-f61b-e3c9b2734a21"
      },
      "execution_count": 31,
      "outputs": [
        {
          "output_type": "stream",
          "name": "stdout",
          "text": [
            "[[1. 0. 0. 0. 0.]\n",
            " [0. 1. 0. 0. 0.]\n",
            " [0. 0. 1. 0. 0.]\n",
            " [0. 0. 0. 1. 0.]\n",
            " [0. 0. 0. 0. 1.]]\n"
          ]
        }
      ]
    },
    {
      "cell_type": "code",
      "source": [
        "import numpy as np"
      ],
      "metadata": {
        "id": "-v8k0aLAblv4"
      },
      "execution_count": null,
      "outputs": []
    }
  ]
}